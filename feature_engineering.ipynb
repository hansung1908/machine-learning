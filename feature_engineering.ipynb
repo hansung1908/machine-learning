{
  "nbformat": 4,
  "nbformat_minor": 0,
  "metadata": {
    "colab": {
      "provenance": []
    },
    "kernelspec": {
      "name": "python3",
      "display_name": "Python 3"
    },
    "language_info": {
      "name": "python"
    }
  },
  "cells": [
    {
      "cell_type": "code",
      "execution_count": null,
      "metadata": {
        "id": "Cm_F5kupzeIX"
      },
      "outputs": [],
      "source": [
        "%matplotlib inline\n",
        "\n",
        "import pandas as pd\n",
        "import numpy as np\n",
        "import matplotlib.pyplot as plt\n",
        "import seaborn as sns\n",
        "\n",
        "import warnings\n",
        "warnings.filterwarnings(\"ignore\")"
      ]
    },
    {
      "cell_type": "code",
      "source": [
        "# 타이타닉 승객에 대한 정보가 담긴 csv 파일을 가져와 pandas를 통해 훈련, 평가 데이터로 저장\n",
        "df_train = pd.read_csv(\"titanic_train.csv\")\n",
        "df_test = pd.read_csv(\"titanic_test.csv\")\n",
        "df_train.head(5)"
      ],
      "metadata": {
        "colab": {
          "base_uri": "https://localhost:8080/",
          "height": 275
        },
        "id": "HzThSx16in-o",
        "outputId": "b0eb07f1-0d57-4030-d955-596c5171be8a"
      },
      "execution_count": null,
      "outputs": [
        {
          "output_type": "execute_result",
          "data": {
            "text/plain": [
              "   pclass  survived                               name     sex   age  sibsp  \\\n",
              "0       2         1  Mellinger, Miss. Madeleine Violet  female  13.0      0   \n",
              "1       2         1                  Wells, Miss. Joan  female   4.0      1   \n",
              "2       2         1     Duran y More, Miss. Florentina  female  30.0      1   \n",
              "3       3         0                 Scanlan, Mr. James    male   NaN      0   \n",
              "4       3         1       Bradley, Miss. Bridget Delia  female  22.0      0   \n",
              "\n",
              "   parch         ticket     fare cabin embarked  body  \\\n",
              "0      1         250644  19.5000   NaN        S   NaN   \n",
              "1      1          29103  23.0000   NaN        S   NaN   \n",
              "2      0  SC/PARIS 2148  13.8583   NaN        C   NaN   \n",
              "3      0          36209   7.7250   NaN        Q   NaN   \n",
              "4      0         334914   7.7250   NaN        Q   NaN   \n",
              "\n",
              "                                           home.dest  \n",
              "0                           England / Bennington, VT  \n",
              "1                               Cornwall / Akron, OH  \n",
              "2                    Barcelona, Spain / Havana, Cuba  \n",
              "3                                                NaN  \n",
              "4  Kingwilliamstown, Co Cork, Ireland Glens Falls...  "
            ],
            "text/html": [
              "\n",
              "  <div id=\"df-99d041f4-45cd-42eb-9ea4-2079b4ae3e1f\" class=\"colab-df-container\">\n",
              "    <div>\n",
              "<style scoped>\n",
              "    .dataframe tbody tr th:only-of-type {\n",
              "        vertical-align: middle;\n",
              "    }\n",
              "\n",
              "    .dataframe tbody tr th {\n",
              "        vertical-align: top;\n",
              "    }\n",
              "\n",
              "    .dataframe thead th {\n",
              "        text-align: right;\n",
              "    }\n",
              "</style>\n",
              "<table border=\"1\" class=\"dataframe\">\n",
              "  <thead>\n",
              "    <tr style=\"text-align: right;\">\n",
              "      <th></th>\n",
              "      <th>pclass</th>\n",
              "      <th>survived</th>\n",
              "      <th>name</th>\n",
              "      <th>sex</th>\n",
              "      <th>age</th>\n",
              "      <th>sibsp</th>\n",
              "      <th>parch</th>\n",
              "      <th>ticket</th>\n",
              "      <th>fare</th>\n",
              "      <th>cabin</th>\n",
              "      <th>embarked</th>\n",
              "      <th>body</th>\n",
              "      <th>home.dest</th>\n",
              "    </tr>\n",
              "  </thead>\n",
              "  <tbody>\n",
              "    <tr>\n",
              "      <th>0</th>\n",
              "      <td>2</td>\n",
              "      <td>1</td>\n",
              "      <td>Mellinger, Miss. Madeleine Violet</td>\n",
              "      <td>female</td>\n",
              "      <td>13.0</td>\n",
              "      <td>0</td>\n",
              "      <td>1</td>\n",
              "      <td>250644</td>\n",
              "      <td>19.5000</td>\n",
              "      <td>NaN</td>\n",
              "      <td>S</td>\n",
              "      <td>NaN</td>\n",
              "      <td>England / Bennington, VT</td>\n",
              "    </tr>\n",
              "    <tr>\n",
              "      <th>1</th>\n",
              "      <td>2</td>\n",
              "      <td>1</td>\n",
              "      <td>Wells, Miss. Joan</td>\n",
              "      <td>female</td>\n",
              "      <td>4.0</td>\n",
              "      <td>1</td>\n",
              "      <td>1</td>\n",
              "      <td>29103</td>\n",
              "      <td>23.0000</td>\n",
              "      <td>NaN</td>\n",
              "      <td>S</td>\n",
              "      <td>NaN</td>\n",
              "      <td>Cornwall / Akron, OH</td>\n",
              "    </tr>\n",
              "    <tr>\n",
              "      <th>2</th>\n",
              "      <td>2</td>\n",
              "      <td>1</td>\n",
              "      <td>Duran y More, Miss. Florentina</td>\n",
              "      <td>female</td>\n",
              "      <td>30.0</td>\n",
              "      <td>1</td>\n",
              "      <td>0</td>\n",
              "      <td>SC/PARIS 2148</td>\n",
              "      <td>13.8583</td>\n",
              "      <td>NaN</td>\n",
              "      <td>C</td>\n",
              "      <td>NaN</td>\n",
              "      <td>Barcelona, Spain / Havana, Cuba</td>\n",
              "    </tr>\n",
              "    <tr>\n",
              "      <th>3</th>\n",
              "      <td>3</td>\n",
              "      <td>0</td>\n",
              "      <td>Scanlan, Mr. James</td>\n",
              "      <td>male</td>\n",
              "      <td>NaN</td>\n",
              "      <td>0</td>\n",
              "      <td>0</td>\n",
              "      <td>36209</td>\n",
              "      <td>7.7250</td>\n",
              "      <td>NaN</td>\n",
              "      <td>Q</td>\n",
              "      <td>NaN</td>\n",
              "      <td>NaN</td>\n",
              "    </tr>\n",
              "    <tr>\n",
              "      <th>4</th>\n",
              "      <td>3</td>\n",
              "      <td>1</td>\n",
              "      <td>Bradley, Miss. Bridget Delia</td>\n",
              "      <td>female</td>\n",
              "      <td>22.0</td>\n",
              "      <td>0</td>\n",
              "      <td>0</td>\n",
              "      <td>334914</td>\n",
              "      <td>7.7250</td>\n",
              "      <td>NaN</td>\n",
              "      <td>Q</td>\n",
              "      <td>NaN</td>\n",
              "      <td>Kingwilliamstown, Co Cork, Ireland Glens Falls...</td>\n",
              "    </tr>\n",
              "  </tbody>\n",
              "</table>\n",
              "</div>\n",
              "    <div class=\"colab-df-buttons\">\n",
              "\n",
              "  <div class=\"colab-df-container\">\n",
              "    <button class=\"colab-df-convert\" onclick=\"convertToInteractive('df-99d041f4-45cd-42eb-9ea4-2079b4ae3e1f')\"\n",
              "            title=\"Convert this dataframe to an interactive table.\"\n",
              "            style=\"display:none;\">\n",
              "\n",
              "  <svg xmlns=\"http://www.w3.org/2000/svg\" height=\"24px\" viewBox=\"0 -960 960 960\">\n",
              "    <path d=\"M120-120v-720h720v720H120Zm60-500h600v-160H180v160Zm220 220h160v-160H400v160Zm0 220h160v-160H400v160ZM180-400h160v-160H180v160Zm440 0h160v-160H620v160ZM180-180h160v-160H180v160Zm440 0h160v-160H620v160Z\"/>\n",
              "  </svg>\n",
              "    </button>\n",
              "\n",
              "  <style>\n",
              "    .colab-df-container {\n",
              "      display:flex;\n",
              "      gap: 12px;\n",
              "    }\n",
              "\n",
              "    .colab-df-convert {\n",
              "      background-color: #E8F0FE;\n",
              "      border: none;\n",
              "      border-radius: 50%;\n",
              "      cursor: pointer;\n",
              "      display: none;\n",
              "      fill: #1967D2;\n",
              "      height: 32px;\n",
              "      padding: 0 0 0 0;\n",
              "      width: 32px;\n",
              "    }\n",
              "\n",
              "    .colab-df-convert:hover {\n",
              "      background-color: #E2EBFA;\n",
              "      box-shadow: 0px 1px 2px rgba(60, 64, 67, 0.3), 0px 1px 3px 1px rgba(60, 64, 67, 0.15);\n",
              "      fill: #174EA6;\n",
              "    }\n",
              "\n",
              "    .colab-df-buttons div {\n",
              "      margin-bottom: 4px;\n",
              "    }\n",
              "\n",
              "    [theme=dark] .colab-df-convert {\n",
              "      background-color: #3B4455;\n",
              "      fill: #D2E3FC;\n",
              "    }\n",
              "\n",
              "    [theme=dark] .colab-df-convert:hover {\n",
              "      background-color: #434B5C;\n",
              "      box-shadow: 0px 1px 3px 1px rgba(0, 0, 0, 0.15);\n",
              "      filter: drop-shadow(0px 1px 2px rgba(0, 0, 0, 0.3));\n",
              "      fill: #FFFFFF;\n",
              "    }\n",
              "  </style>\n",
              "\n",
              "    <script>\n",
              "      const buttonEl =\n",
              "        document.querySelector('#df-99d041f4-45cd-42eb-9ea4-2079b4ae3e1f button.colab-df-convert');\n",
              "      buttonEl.style.display =\n",
              "        google.colab.kernel.accessAllowed ? 'block' : 'none';\n",
              "\n",
              "      async function convertToInteractive(key) {\n",
              "        const element = document.querySelector('#df-99d041f4-45cd-42eb-9ea4-2079b4ae3e1f');\n",
              "        const dataTable =\n",
              "          await google.colab.kernel.invokeFunction('convertToInteractive',\n",
              "                                                    [key], {});\n",
              "        if (!dataTable) return;\n",
              "\n",
              "        const docLinkHtml = 'Like what you see? Visit the ' +\n",
              "          '<a target=\"_blank\" href=https://colab.research.google.com/notebooks/data_table.ipynb>data table notebook</a>'\n",
              "          + ' to learn more about interactive tables.';\n",
              "        element.innerHTML = '';\n",
              "        dataTable['output_type'] = 'display_data';\n",
              "        await google.colab.output.renderOutput(dataTable, element);\n",
              "        const docLink = document.createElement('div');\n",
              "        docLink.innerHTML = docLinkHtml;\n",
              "        element.appendChild(docLink);\n",
              "      }\n",
              "    </script>\n",
              "  </div>\n",
              "\n",
              "\n",
              "<div id=\"df-ac4e8c33-c4bb-4b94-a1ad-27f25bf0310f\">\n",
              "  <button class=\"colab-df-quickchart\" onclick=\"quickchart('df-ac4e8c33-c4bb-4b94-a1ad-27f25bf0310f')\"\n",
              "            title=\"Suggest charts\"\n",
              "            style=\"display:none;\">\n",
              "\n",
              "<svg xmlns=\"http://www.w3.org/2000/svg\" height=\"24px\"viewBox=\"0 0 24 24\"\n",
              "     width=\"24px\">\n",
              "    <g>\n",
              "        <path d=\"M19 3H5c-1.1 0-2 .9-2 2v14c0 1.1.9 2 2 2h14c1.1 0 2-.9 2-2V5c0-1.1-.9-2-2-2zM9 17H7v-7h2v7zm4 0h-2V7h2v10zm4 0h-2v-4h2v4z\"/>\n",
              "    </g>\n",
              "</svg>\n",
              "  </button>\n",
              "\n",
              "<style>\n",
              "  .colab-df-quickchart {\n",
              "      --bg-color: #E8F0FE;\n",
              "      --fill-color: #1967D2;\n",
              "      --hover-bg-color: #E2EBFA;\n",
              "      --hover-fill-color: #174EA6;\n",
              "      --disabled-fill-color: #AAA;\n",
              "      --disabled-bg-color: #DDD;\n",
              "  }\n",
              "\n",
              "  [theme=dark] .colab-df-quickchart {\n",
              "      --bg-color: #3B4455;\n",
              "      --fill-color: #D2E3FC;\n",
              "      --hover-bg-color: #434B5C;\n",
              "      --hover-fill-color: #FFFFFF;\n",
              "      --disabled-bg-color: #3B4455;\n",
              "      --disabled-fill-color: #666;\n",
              "  }\n",
              "\n",
              "  .colab-df-quickchart {\n",
              "    background-color: var(--bg-color);\n",
              "    border: none;\n",
              "    border-radius: 50%;\n",
              "    cursor: pointer;\n",
              "    display: none;\n",
              "    fill: var(--fill-color);\n",
              "    height: 32px;\n",
              "    padding: 0;\n",
              "    width: 32px;\n",
              "  }\n",
              "\n",
              "  .colab-df-quickchart:hover {\n",
              "    background-color: var(--hover-bg-color);\n",
              "    box-shadow: 0 1px 2px rgba(60, 64, 67, 0.3), 0 1px 3px 1px rgba(60, 64, 67, 0.15);\n",
              "    fill: var(--button-hover-fill-color);\n",
              "  }\n",
              "\n",
              "  .colab-df-quickchart-complete:disabled,\n",
              "  .colab-df-quickchart-complete:disabled:hover {\n",
              "    background-color: var(--disabled-bg-color);\n",
              "    fill: var(--disabled-fill-color);\n",
              "    box-shadow: none;\n",
              "  }\n",
              "\n",
              "  .colab-df-spinner {\n",
              "    border: 2px solid var(--fill-color);\n",
              "    border-color: transparent;\n",
              "    border-bottom-color: var(--fill-color);\n",
              "    animation:\n",
              "      spin 1s steps(1) infinite;\n",
              "  }\n",
              "\n",
              "  @keyframes spin {\n",
              "    0% {\n",
              "      border-color: transparent;\n",
              "      border-bottom-color: var(--fill-color);\n",
              "      border-left-color: var(--fill-color);\n",
              "    }\n",
              "    20% {\n",
              "      border-color: transparent;\n",
              "      border-left-color: var(--fill-color);\n",
              "      border-top-color: var(--fill-color);\n",
              "    }\n",
              "    30% {\n",
              "      border-color: transparent;\n",
              "      border-left-color: var(--fill-color);\n",
              "      border-top-color: var(--fill-color);\n",
              "      border-right-color: var(--fill-color);\n",
              "    }\n",
              "    40% {\n",
              "      border-color: transparent;\n",
              "      border-right-color: var(--fill-color);\n",
              "      border-top-color: var(--fill-color);\n",
              "    }\n",
              "    60% {\n",
              "      border-color: transparent;\n",
              "      border-right-color: var(--fill-color);\n",
              "    }\n",
              "    80% {\n",
              "      border-color: transparent;\n",
              "      border-right-color: var(--fill-color);\n",
              "      border-bottom-color: var(--fill-color);\n",
              "    }\n",
              "    90% {\n",
              "      border-color: transparent;\n",
              "      border-bottom-color: var(--fill-color);\n",
              "    }\n",
              "  }\n",
              "</style>\n",
              "\n",
              "  <script>\n",
              "    async function quickchart(key) {\n",
              "      const quickchartButtonEl =\n",
              "        document.querySelector('#' + key + ' button');\n",
              "      quickchartButtonEl.disabled = true;  // To prevent multiple clicks.\n",
              "      quickchartButtonEl.classList.add('colab-df-spinner');\n",
              "      try {\n",
              "        const charts = await google.colab.kernel.invokeFunction(\n",
              "            'suggestCharts', [key], {});\n",
              "      } catch (error) {\n",
              "        console.error('Error during call to suggestCharts:', error);\n",
              "      }\n",
              "      quickchartButtonEl.classList.remove('colab-df-spinner');\n",
              "      quickchartButtonEl.classList.add('colab-df-quickchart-complete');\n",
              "    }\n",
              "    (() => {\n",
              "      let quickchartButtonEl =\n",
              "        document.querySelector('#df-ac4e8c33-c4bb-4b94-a1ad-27f25bf0310f button');\n",
              "      quickchartButtonEl.style.display =\n",
              "        google.colab.kernel.accessAllowed ? 'block' : 'none';\n",
              "    })();\n",
              "  </script>\n",
              "</div>\n",
              "    </div>\n",
              "  </div>\n"
            ]
          },
          "metadata": {},
          "execution_count": 3
        }
      ]
    },
    {
      "cell_type": "code",
      "source": [
        "# 각각 훈련, 평가 데이터에 대한 정보 확인\n",
        "print(df_train.info())\n",
        "print(\"--------------------\")\n",
        "print(df_test.info())"
      ],
      "metadata": {
        "colab": {
          "base_uri": "https://localhost:8080/"
        },
        "id": "gr-WJnxMisF_",
        "outputId": "83d118e1-9cad-4cf0-d83c-5b7cfb0ddc13"
      },
      "execution_count": null,
      "outputs": [
        {
          "output_type": "stream",
          "name": "stdout",
          "text": [
            "<class 'pandas.core.frame.DataFrame'>\n",
            "RangeIndex: 916 entries, 0 to 915\n",
            "Data columns (total 13 columns):\n",
            " #   Column     Non-Null Count  Dtype  \n",
            "---  ------     --------------  -----  \n",
            " 0   pclass     916 non-null    int64  \n",
            " 1   survived   916 non-null    int64  \n",
            " 2   name       916 non-null    object \n",
            " 3   sex        916 non-null    object \n",
            " 4   age        741 non-null    float64\n",
            " 5   sibsp      916 non-null    int64  \n",
            " 6   parch      916 non-null    int64  \n",
            " 7   ticket     916 non-null    object \n",
            " 8   fare       916 non-null    float64\n",
            " 9   cabin      214 non-null    object \n",
            " 10  embarked   914 non-null    object \n",
            " 11  body       85 non-null     float64\n",
            " 12  home.dest  527 non-null    object \n",
            "dtypes: float64(3), int64(4), object(6)\n",
            "memory usage: 93.2+ KB\n",
            "None\n",
            "--------------------\n",
            "<class 'pandas.core.frame.DataFrame'>\n",
            "RangeIndex: 393 entries, 0 to 392\n",
            "Data columns (total 13 columns):\n",
            " #   Column     Non-Null Count  Dtype  \n",
            "---  ------     --------------  -----  \n",
            " 0   pclass     393 non-null    int64  \n",
            " 1   survived   393 non-null    int64  \n",
            " 2   name       393 non-null    object \n",
            " 3   sex        393 non-null    object \n",
            " 4   age        305 non-null    float64\n",
            " 5   sibsp      393 non-null    int64  \n",
            " 6   parch      393 non-null    int64  \n",
            " 7   ticket     393 non-null    object \n",
            " 8   fare       393 non-null    float64\n",
            " 9   cabin      81 non-null     object \n",
            " 10  embarked   393 non-null    object \n",
            " 11  body       36 non-null     float64\n",
            " 12  home.dest  218 non-null    object \n",
            "dtypes: float64(3), int64(4), object(6)\n",
            "memory usage: 40.0+ KB\n",
            "None\n"
          ]
        }
      ]
    },
    {
      "cell_type": "code",
      "source": [
        "# 데이터셋에서 name, ticket, body, cabin, home.dest 피쳐[column]을 제거\n",
        "df_train = df_train.drop(['name', 'ticket', 'body', 'cabin', 'home.dest'], axis = 1)\n",
        "df_test = df_test.drop(['name', 'ticket', 'body', 'cabin', 'home.dest'], axis = 1)"
      ],
      "metadata": {
        "id": "LQy10pouixR5"
      },
      "execution_count": null,
      "outputs": []
    },
    {
      "cell_type": "code",
      "source": [
        "# 0(사망), 1(생존)으로 나누어 피처의 그룹 간 차이 탐색\n",
        "print(df_train['survived'].value_counts())\n",
        "df_train['survived'].value_counts().plot.bar()"
      ],
      "metadata": {
        "colab": {
          "base_uri": "https://localhost:8080/",
          "height": 498
        },
        "id": "WTnSRTQL6TMo",
        "outputId": "fa6b9c23-9b5c-40f0-b961-daf37cd8412a"
      },
      "execution_count": null,
      "outputs": [
        {
          "output_type": "stream",
          "name": "stdout",
          "text": [
            "0    563\n",
            "1    353\n",
            "Name: survived, dtype: int64\n"
          ]
        },
        {
          "output_type": "execute_result",
          "data": {
            "text/plain": [
              "<Axes: >"
            ]
          },
          "metadata": {},
          "execution_count": 6
        },
        {
          "output_type": "display_data",
          "data": {
            "text/plain": [
              "<Figure size 640x480 with 1 Axes>"
            ],
            "image/png": "[encoded data removed]"
          },
          "metadata": {}
        }
      ]
    },
    {
      "cell_type": "code",
      "source": [
        "# survived 피처를 기준으로 그룹을 나누어, 그룹별 pclass 피처의 분포를 분석\n",
        "print(df_train['pclass'].value_counts())\n",
        "ax = sns.countplot(x = 'pclass', hue = 'survived',  data = df_train)"
      ],
      "metadata": {
        "colab": {
          "base_uri": "https://localhost:8080/",
          "height": 522
        },
        "id": "pV3PU-9-65UB",
        "outputId": "ffda7c8c-d994-45e1-8c26-79ace893004e"
      },
      "execution_count": null,
      "outputs": [
        {
          "output_type": "stream",
          "name": "stdout",
          "text": [
            "3    498\n",
            "1    230\n",
            "2    188\n",
            "Name: pclass, dtype: int64\n"
          ]
        },
        {
          "output_type": "display_data",
          "data": {
            "text/plain": [
              "<Figure size 640x480 with 1 Axes>"
            ],
            "image/png": "[encoded data removed]"
          },
          "metadata": {}
        }
      ]
    },
    {
      "cell_type": "code",
      "source": [
        "from scipy import stats\n",
        "\n",
        "# 두 집단의 피처를 비교해주며 탐색작업을 자동화하는 함수를 정의\n",
        "def valid_features(df, col_name, distribution_check=True):\n",
        "\n",
        "  # 두 집단 (survived=1, survived=0)의 분포 그래프를 출력\n",
        "  g = sns.FacetGrid(df, col='survived')\n",
        "  g.map(plt.hist, col_name, bins=30)\n",
        "\n",
        "  # 두 집단 (survived=1, survived=0)의 표준편차를 각각 출력\n",
        "  titanic_survived = df[df['survived']==1]\n",
        "  titanic_survived_static = np.array(titanic_survived[col_name])\n",
        "  print(\"data std is\", '%.2f' % np.std(titanic_survived_static))\n",
        "  titanic_n_survived = df[df['survived']==0]\n",
        "  titanic_n_survived_static = np.array(titanic_n_survived[col_name])\n",
        "  print(\"data std is\", '%.2f' % np.std(titanic_n_survived_static))\n",
        "\n",
        "  # T-test로 두 집단의 평균 차이를 검정\n",
        "  tTestResult = stats.ttest_ind(titanic_survived[col_name], titanic_n_survived[col_name])\n",
        "  tTestResultDiffVar = stats.ttest_ind(titanic_survived[col_name], titanic_n_survived[col_name], equal_var=False)\n",
        "  print(\"The t-statistic and p-value assuming equal variances is %.3f and %.3f.\" % tTestResult)\n",
        "  print(\"The t-statistic and p-value not assuming equal variances is %.3f and %.3f\" % tTestResultDiffVar)\n",
        "\n",
        "  if distribution_check:\n",
        "      # Shapiro-Wilk 검정 : 분포의 정규성 정도를 검증\n",
        "      print(\"The w-statistic and p-value in Survived %.3f and %.3f\" % stats.shapiro(titanic_survived[col_name]))\n",
        "      print(\"The w-statistic and p-value in Non-Survived %.3f and %.3f\" % stats.shapiro(titanic_n_survived[col_name]))"
      ],
      "metadata": {
        "id": "CF4FAAOx6g6e"
      },
      "execution_count": null,
      "outputs": []
    },
    {
      "cell_type": "code",
      "source": [
        "# 앞서 정의한 valid_features 함수를 실행. age 피처를 탐색\n",
        "valid_features(df_train[df_train['age'] > 0], 'age', distribution_check=True)"
      ],
      "metadata": {
        "colab": {
          "base_uri": "https://localhost:8080/",
          "height": 416
        },
        "id": "mB9WuZAY7Ch3",
        "outputId": "de7f081a-66ed-41e2-db46-cbfda30f44f3"
      },
      "execution_count": null,
      "outputs": [
        {
          "output_type": "stream",
          "name": "stdout",
          "text": [
            "data std is 14.22\n",
            "data std is 13.71\n",
            "The t-statistic and p-value assuming equal variances is -0.546 and 0.585.\n",
            "The t-statistic and p-value not assuming equal variances is -0.543 and 0.587\n",
            "The w-statistic and p-value in Survived 0.982 and 0.001\n",
            "The w-statistic and p-value in Non-Survived 0.968 and 0.000\n"
          ]
        },
        {
          "output_type": "display_data",
          "data": {
            "text/plain": [
              "<Figure size 600x300 with 2 Axes>"
            ],
            "image/png": "[encoded data removed]"
          },
          "metadata": {}
        }
      ]
    },
    {
      "cell_type": "code",
      "source": [
        "# 앞서 정의한 valid_features 함수를 실행. sibsp 피처를 탐색\n",
        "valid_features(df_train, 'sibsp', distribution_check=False)"
      ],
      "metadata": {
        "colab": {
          "base_uri": "https://localhost:8080/",
          "height": 380
        },
        "id": "WmXY9GRR7D32",
        "outputId": "401ee90f-8832-47a8-e0de-ae51d8540c84"
      },
      "execution_count": null,
      "outputs": [
        {
          "output_type": "stream",
          "name": "stdout",
          "text": [
            "data std is 0.64\n",
            "data std is 1.34\n",
            "The t-statistic and p-value assuming equal variances is -2.118 and 0.034.\n",
            "The t-statistic and p-value not assuming equal variances is -2.446 and 0.015\n"
          ]
        },
        {
          "output_type": "display_data",
          "data": {
            "text/plain": [
              "<Figure size 600x300 with 2 Axes>"
            ],
            "image/png": "[encoded data removed]"
          },
          "metadata": {}
        }
      ]
    },
    {
      "cell_type": "code",
      "source": [
        "# sex 피처를 기준으로 생존 여부를 탐색\n",
        "ax = sns.countplot(x='sex', hue = 'survived',  data = df_train)"
      ],
      "metadata": {
        "colab": {
          "base_uri": "https://localhost:8080/",
          "height": 449
        },
        "id": "vDE9dIJJ7LjN",
        "outputId": "483ad1b1-ca52-4161-deab-a35ab35d2f4e"
      },
      "execution_count": null,
      "outputs": [
        {
          "output_type": "display_data",
          "data": {
            "text/plain": [
              "<Figure size 640x480 with 1 Axes>"
            ],
            "image/png": "[encoded data removed]"
          },
          "metadata": {}
        }
      ]
    },
    {
      "cell_type": "code",
      "source": [
        "# 승선항을 기준으로 생존 여부를 탐색\n",
        "ax = sns.countplot(x='embarked', hue = 'survived',  data = df_train)"
      ],
      "metadata": {
        "colab": {
          "base_uri": "https://localhost:8080/",
          "height": 449
        },
        "id": "ZrfX1ZQ27QsN",
        "outputId": "71922944-27d8-489e-e77c-33309e7b4f4c"
      },
      "execution_count": null,
      "outputs": [
        {
          "output_type": "display_data",
          "data": {
            "text/plain": [
              "<Figure size 640x480 with 1 Axes>"
            ],
            "image/png": "[encoded data removed]"
          },
          "metadata": {}
        }
      ]
    },
    {
      "cell_type": "code",
      "source": [
        "# 동승한 부모 또는 자녀 수를 기준으로 생존 여부를 탐색\n",
        "valid_features(df_train, 'parch', distribution_check=False)"
      ],
      "metadata": {
        "colab": {
          "base_uri": "https://localhost:8080/",
          "height": 380
        },
        "id": "m6LvBcAr7WGA",
        "outputId": "2393d74c-4ef3-47b4-c281-4330c452a93b"
      },
      "execution_count": null,
      "outputs": [
        {
          "output_type": "stream",
          "name": "stdout",
          "text": [
            "data std is 0.74\n",
            "data std is 0.89\n",
            "The t-statistic and p-value assuming equal variances is 1.865 and 0.063.\n",
            "The t-statistic and p-value not assuming equal variances is 1.942 and 0.052\n"
          ]
        },
        {
          "output_type": "display_data",
          "data": {
            "text/plain": [
              "<Figure size 600x300 with 2 Axes>"
            ],
            "image/png": "[encoded data removed]"
          },
          "metadata": {}
        }
      ]
    },
    {
      "cell_type": "code",
      "source": [
        "# 승객 지불 요금을 기준으로 생존 여부 탐색\n",
        "valid_features(df_train, 'fare', distribution_check=False)"
      ],
      "metadata": {
        "colab": {
          "base_uri": "https://localhost:8080/",
          "height": 380
        },
        "id": "jdhfwBS07Y4d",
        "outputId": "cd1b30a1-1031-4938-cf48-1e4b237d5582"
      },
      "execution_count": null,
      "outputs": [
        {
          "output_type": "stream",
          "name": "stdout",
          "text": [
            "data std is 60.68\n",
            "data std is 33.65\n",
            "The t-statistic and p-value assuming equal variances is 7.523 and 0.000.\n",
            "The t-statistic and p-value not assuming equal variances is 6.657 and 0.000\n"
          ]
        },
        {
          "output_type": "display_data",
          "data": {
            "text/plain": [
              "<Figure size 600x300 with 2 Axes>"
            ],
            "image/png": "[encoded data removed]"
          },
          "metadata": {}
        }
      ]
    },
    {
      "cell_type": "code",
      "source": [
        "# age의 결측값을 평균값으로 대체\n",
        "replace_mean = df_train[df_train['age'] > 0]['age'].mean()\n",
        "df_train['age'] = df_train['age'].fillna(replace_mean)\n",
        "df_test['age'] = df_test['age'].fillna(replace_mean)\n",
        "\n",
        "# embark : 2개의 결측값을 최빈값으로 대체\n",
        "embarked_mode = df_train['embarked'].value_counts().index[0]\n",
        "df_train['embarked'] = df_train['embarked'].fillna(embarked_mode)\n",
        "df_test['embarked'] = df_test['embarked'].fillna(embarked_mode)\n",
        "\n",
        "# one-hot encoding을 위한 통합 데이터 프레임(whole_df)을 생성\n",
        "whole_df = df_train.append(df_test)\n",
        "train_idx_num = len(df_train)\n",
        "\n",
        "# pandas 패키지를 이용한 one-hot 인코딩을 수행\n",
        "whole_df_encoded = pd.get_dummies(whole_df)\n",
        "df_train = whole_df_encoded[:train_idx_num]\n",
        "df_test = whole_df_encoded[train_idx_num:]\n",
        "\n",
        "df_train.head()"
      ],
      "metadata": {
        "colab": {
          "base_uri": "https://localhost:8080/",
          "height": 206
        },
        "id": "9Co1ZhlL7bbk",
        "outputId": "625c7c8d-f646-4b39-cd21-939347319cb8"
      },
      "execution_count": null,
      "outputs": [
        {
          "output_type": "execute_result",
          "data": {
            "text/plain": [
              "   pclass  survived        age  sibsp  parch     fare  sex_female  sex_male  \\\n",
              "0       2         1  13.000000      0      1  19.5000           1         0   \n",
              "1       2         1   4.000000      1      1  23.0000           1         0   \n",
              "2       2         1  30.000000      1      0  13.8583           1         0   \n",
              "3       3         0  30.231444      0      0   7.7250           0         1   \n",
              "4       3         1  22.000000      0      0   7.7250           1         0   \n",
              "\n",
              "   embarked_C  embarked_Q  embarked_S  \n",
              "0           0           0           1  \n",
              "1           0           0           1  \n",
              "2           1           0           0  \n",
              "3           0           1           0  \n",
              "4           0           1           0  "
            ],
            "text/html": [
              "\n",
              "  <div id=\"df-4898d5ae-f0f1-45c0-9289-8ab41254a275\" class=\"colab-df-container\">\n",
              "    <div>\n",
              "<style scoped>\n",
              "    .dataframe tbody tr th:only-of-type {\n",
              "        vertical-align: middle;\n",
              "    }\n",
              "\n",
              "    .dataframe tbody tr th {\n",
              "        vertical-align: top;\n",
              "    }\n",
              "\n",
              "    .dataframe thead th {\n",
              "        text-align: right;\n",
              "    }\n",
              "</style>\n",
              "<table border=\"1\" class=\"dataframe\">\n",
              "  <thead>\n",
              "    <tr style=\"text-align: right;\">\n",
              "      <th></th>\n",
              "      <th>pclass</th>\n",
              "      <th>survived</th>\n",
              "      <th>age</th>\n",
              "      <th>sibsp</th>\n",
              "      <th>parch</th>\n",
              "      <th>fare</th>\n",
              "      <th>sex_female</th>\n",
              "      <th>sex_male</th>\n",
              "      <th>embarked_C</th>\n",
              "      <th>embarked_Q</th>\n",
              "      <th>embarked_S</th>\n",
              "    </tr>\n",
              "  </thead>\n",
              "  <tbody>\n",
              "    <tr>\n",
              "      <th>0</th>\n",
              "      <td>2</td>\n",
              "      <td>1</td>\n",
              "      <td>13.000000</td>\n",
              "      <td>0</td>\n",
              "      <td>1</td>\n",
              "      <td>19.5000</td>\n",
              "      <td>1</td>\n",
              "      <td>0</td>\n",
              "      <td>0</td>\n",
              "      <td>0</td>\n",
              "      <td>1</td>\n",
              "    </tr>\n",
              "    <tr>\n",
              "      <th>1</th>\n",
              "      <td>2</td>\n",
              "      <td>1</td>\n",
              "      <td>4.000000</td>\n",
              "      <td>1</td>\n",
              "      <td>1</td>\n",
              "      <td>23.0000</td>\n",
              "      <td>1</td>\n",
              "      <td>0</td>\n",
              "      <td>0</td>\n",
              "      <td>0</td>\n",
              "      <td>1</td>\n",
              "    </tr>\n",
              "    <tr>\n",
              "      <th>2</th>\n",
              "      <td>2</td>\n",
              "      <td>1</td>\n",
              "      <td>30.000000</td>\n",
              "      <td>1</td>\n",
              "      <td>0</td>\n",
              "      <td>13.8583</td>\n",
              "      <td>1</td>\n",
              "      <td>0</td>\n",
              "      <td>1</td>\n",
              "      <td>0</td>\n",
              "      <td>0</td>\n",
              "    </tr>\n",
              "    <tr>\n",
              "      <th>3</th>\n",
              "      <td>3</td>\n",
              "      <td>0</td>\n",
              "      <td>30.231444</td>\n",
              "      <td>0</td>\n",
              "      <td>0</td>\n",
              "      <td>7.7250</td>\n",
              "      <td>0</td>\n",
              "      <td>1</td>\n",
              "      <td>0</td>\n",
              "      <td>1</td>\n",
              "      <td>0</td>\n",
              "    </tr>\n",
              "    <tr>\n",
              "      <th>4</th>\n",
              "      <td>3</td>\n",
              "      <td>1</td>\n",
              "      <td>22.000000</td>\n",
              "      <td>0</td>\n",
              "      <td>0</td>\n",
              "      <td>7.7250</td>\n",
              "      <td>1</td>\n",
              "      <td>0</td>\n",
              "      <td>0</td>\n",
              "      <td>1</td>\n",
              "      <td>0</td>\n",
              "    </tr>\n",
              "  </tbody>\n",
              "</table>\n",
              "</div>\n",
              "    <div class=\"colab-df-buttons\">\n",
              "\n",
              "  <div class=\"colab-df-container\">\n",
              "    <button class=\"colab-df-convert\" onclick=\"convertToInteractive('df-4898d5ae-f0f1-45c0-9289-8ab41254a275')\"\n",
              "            title=\"Convert this dataframe to an interactive table.\"\n",
              "            style=\"display:none;\">\n",
              "\n",
              "  <svg xmlns=\"http://www.w3.org/2000/svg\" height=\"24px\" viewBox=\"0 -960 960 960\">\n",
              "    <path d=\"M120-120v-720h720v720H120Zm60-500h600v-160H180v160Zm220 220h160v-160H400v160Zm0 220h160v-160H400v160ZM180-400h160v-160H180v160Zm440 0h160v-160H620v160ZM180-180h160v-160H180v160Zm440 0h160v-160H620v160Z\"/>\n",
              "  </svg>\n",
              "    </button>\n",
              "\n",
              "  <style>\n",
              "    .colab-df-container {\n",
              "      display:flex;\n",
              "      gap: 12px;\n",
              "    }\n",
              "\n",
              "    .colab-df-convert {\n",
              "      background-color: #E8F0FE;\n",
              "      border: none;\n",
              "      border-radius: 50%;\n",
              "      cursor: pointer;\n",
              "      display: none;\n",
              "      fill: #1967D2;\n",
              "      height: 32px;\n",
              "      padding: 0 0 0 0;\n",
              "      width: 32px;\n",
              "    }\n",
              "\n",
              "    .colab-df-convert:hover {\n",
              "      background-color: #E2EBFA;\n",
              "      box-shadow: 0px 1px 2px rgba(60, 64, 67, 0.3), 0px 1px 3px 1px rgba(60, 64, 67, 0.15);\n",
              "      fill: #174EA6;\n",
              "    }\n",
              "\n",
              "    .colab-df-buttons div {\n",
              "      margin-bottom: 4px;\n",
              "    }\n",
              "\n",
              "    [theme=dark] .colab-df-convert {\n",
              "      background-color: #3B4455;\n",
              "      fill: #D2E3FC;\n",
              "    }\n",
              "\n",
              "    [theme=dark] .colab-df-convert:hover {\n",
              "      background-color: #434B5C;\n",
              "      box-shadow: 0px 1px 3px 1px rgba(0, 0, 0, 0.15);\n",
              "      filter: drop-shadow(0px 1px 2px rgba(0, 0, 0, 0.3));\n",
              "      fill: #FFFFFF;\n",
              "    }\n",
              "  </style>\n",
              "\n",
              "    <script>\n",
              "      const buttonEl =\n",
              "        document.querySelector('#df-4898d5ae-f0f1-45c0-9289-8ab41254a275 button.colab-df-convert');\n",
              "      buttonEl.style.display =\n",
              "        google.colab.kernel.accessAllowed ? 'block' : 'none';\n",
              "\n",
              "      async function convertToInteractive(key) {\n",
              "        const element = document.querySelector('#df-4898d5ae-f0f1-45c0-9289-8ab41254a275');\n",
              "        const dataTable =\n",
              "          await google.colab.kernel.invokeFunction('convertToInteractive',\n",
              "                                                    [key], {});\n",
              "        if (!dataTable) return;\n",
              "\n",
              "        const docLinkHtml = 'Like what you see? Visit the ' +\n",
              "          '<a target=\"_blank\" href=https://colab.research.google.com/notebooks/data_table.ipynb>data table notebook</a>'\n",
              "          + ' to learn more about interactive tables.';\n",
              "        element.innerHTML = '';\n",
              "        dataTable['output_type'] = 'display_data';\n",
              "        await google.colab.output.renderOutput(dataTable, element);\n",
              "        const docLink = document.createElement('div');\n",
              "        docLink.innerHTML = docLinkHtml;\n",
              "        element.appendChild(docLink);\n",
              "      }\n",
              "    </script>\n",
              "  </div>\n",
              "\n",
              "\n",
              "<div id=\"df-6813044c-c774-4505-9d46-d0716a88d508\">\n",
              "  <button class=\"colab-df-quickchart\" onclick=\"quickchart('df-6813044c-c774-4505-9d46-d0716a88d508')\"\n",
              "            title=\"Suggest charts\"\n",
              "            style=\"display:none;\">\n",
              "\n",
              "<svg xmlns=\"http://www.w3.org/2000/svg\" height=\"24px\"viewBox=\"0 0 24 24\"\n",
              "     width=\"24px\">\n",
              "    <g>\n",
              "        <path d=\"M19 3H5c-1.1 0-2 .9-2 2v14c0 1.1.9 2 2 2h14c1.1 0 2-.9 2-2V5c0-1.1-.9-2-2-2zM9 17H7v-7h2v7zm4 0h-2V7h2v10zm4 0h-2v-4h2v4z\"/>\n",
              "    </g>\n",
              "</svg>\n",
              "  </button>\n",
              "\n",
              "<style>\n",
              "  .colab-df-quickchart {\n",
              "      --bg-color: #E8F0FE;\n",
              "      --fill-color: #1967D2;\n",
              "      --hover-bg-color: #E2EBFA;\n",
              "      --hover-fill-color: #174EA6;\n",
              "      --disabled-fill-color: #AAA;\n",
              "      --disabled-bg-color: #DDD;\n",
              "  }\n",
              "\n",
              "  [theme=dark] .colab-df-quickchart {\n",
              "      --bg-color: #3B4455;\n",
              "      --fill-color: #D2E3FC;\n",
              "      --hover-bg-color: #434B5C;\n",
              "      --hover-fill-color: #FFFFFF;\n",
              "      --disabled-bg-color: #3B4455;\n",
              "      --disabled-fill-color: #666;\n",
              "  }\n",
              "\n",
              "  .colab-df-quickchart {\n",
              "    background-color: var(--bg-color);\n",
              "    border: none;\n",
              "    border-radius: 50%;\n",
              "    cursor: pointer;\n",
              "    display: none;\n",
              "    fill: var(--fill-color);\n",
              "    height: 32px;\n",
              "    padding: 0;\n",
              "    width: 32px;\n",
              "  }\n",
              "\n",
              "  .colab-df-quickchart:hover {\n",
              "    background-color: var(--hover-bg-color);\n",
              "    box-shadow: 0 1px 2px rgba(60, 64, 67, 0.3), 0 1px 3px 1px rgba(60, 64, 67, 0.15);\n",
              "    fill: var(--button-hover-fill-color);\n",
              "  }\n",
              "\n",
              "  .colab-df-quickchart-complete:disabled,\n",
              "  .colab-df-quickchart-complete:disabled:hover {\n",
              "    background-color: var(--disabled-bg-color);\n",
              "    fill: var(--disabled-fill-color);\n",
              "    box-shadow: none;\n",
              "  }\n",
              "\n",
              "  .colab-df-spinner {\n",
              "    border: 2px solid var(--fill-color);\n",
              "    border-color: transparent;\n",
              "    border-bottom-color: var(--fill-color);\n",
              "    animation:\n",
              "      spin 1s steps(1) infinite;\n",
              "  }\n",
              "\n",
              "  @keyframes spin {\n",
              "    0% {\n",
              "      border-color: transparent;\n",
              "      border-bottom-color: var(--fill-color);\n",
              "      border-left-color: var(--fill-color);\n",
              "    }\n",
              "    20% {\n",
              "      border-color: transparent;\n",
              "      border-left-color: var(--fill-color);\n",
              "      border-top-color: var(--fill-color);\n",
              "    }\n",
              "    30% {\n",
              "      border-color: transparent;\n",
              "      border-left-color: var(--fill-color);\n",
              "      border-top-color: var(--fill-color);\n",
              "      border-right-color: var(--fill-color);\n",
              "    }\n",
              "    40% {\n",
              "      border-color: transparent;\n",
              "      border-right-color: var(--fill-color);\n",
              "      border-top-color: var(--fill-color);\n",
              "    }\n",
              "    60% {\n",
              "      border-color: transparent;\n",
              "      border-right-color: var(--fill-color);\n",
              "    }\n",
              "    80% {\n",
              "      border-color: transparent;\n",
              "      border-right-color: var(--fill-color);\n",
              "      border-bottom-color: var(--fill-color);\n",
              "    }\n",
              "    90% {\n",
              "      border-color: transparent;\n",
              "      border-bottom-color: var(--fill-color);\n",
              "    }\n",
              "  }\n",
              "</style>\n",
              "\n",
              "  <script>\n",
              "    async function quickchart(key) {\n",
              "      const quickchartButtonEl =\n",
              "        document.querySelector('#' + key + ' button');\n",
              "      quickchartButtonEl.disabled = true;  // To prevent multiple clicks.\n",
              "      quickchartButtonEl.classList.add('colab-df-spinner');\n",
              "      try {\n",
              "        const charts = await google.colab.kernel.invokeFunction(\n",
              "            'suggestCharts', [key], {});\n",
              "      } catch (error) {\n",
              "        console.error('Error during call to suggestCharts:', error);\n",
              "      }\n",
              "      quickchartButtonEl.classList.remove('colab-df-spinner');\n",
              "      quickchartButtonEl.classList.add('colab-df-quickchart-complete');\n",
              "    }\n",
              "    (() => {\n",
              "      let quickchartButtonEl =\n",
              "        document.querySelector('#df-6813044c-c774-4505-9d46-d0716a88d508 button');\n",
              "      quickchartButtonEl.style.display =\n",
              "        google.colab.kernel.accessAllowed ? 'block' : 'none';\n",
              "    })();\n",
              "  </script>\n",
              "</div>\n",
              "    </div>\n",
              "  </div>\n"
            ]
          },
          "metadata": {},
          "execution_count": 15
        }
      ]
    },
    {
      "cell_type": "code",
      "source": [
        "# 데이터를 학습 데이터셋, 테스트 데이터셋으로 분리\n",
        "x_train, y_train = df_train.loc[:, df_train.columns != 'survived'].values, df_train['survived'].values\n",
        "x_test, y_test = df_test.loc[:, df_test.columns != 'survived'].values, df_test['survived'].values"
      ],
      "metadata": {
        "id": "6qqHyoxi7odp"
      },
      "execution_count": null,
      "outputs": []
    },
    {
      "cell_type": "code",
      "source": [
        "from sklearn.linear_model import LogisticRegression\n",
        "from sklearn.metrics import accuracy_score, precision_score, recall_score, f1_score\n",
        "\n",
        "# 로지스틱 회귀 모델을 학습\n",
        "lr = LogisticRegression(random_state=0)\n",
        "lr.fit(x_train, y_train)\n",
        "\n",
        "# 학습한 모델의 테스트 데이터셋에 대한 예측 결과를 반환\n",
        "y_pred = lr.predict(x_test)\n",
        "y_pred_probability = lr.predict_proba(x_test)[:,1]"
      ],
      "metadata": {
        "id": "eSPbwUxD9sBd"
      },
      "execution_count": null,
      "outputs": []
    },
    {
      "cell_type": "code",
      "source": [
        "# 테스트 데이터셋에 대한 accuracy, precision, recall, f1 평가 지표를 각각 출력\n",
        "print(\"accuracy: %.2f\" % accuracy_score(y_test, y_pred))\n",
        "print(\"Precision : %.3f\" % precision_score(y_test, y_pred))\n",
        "print(\"Recall : %.3f\" % recall_score(y_test, y_pred))\n",
        "print(\"F1 : %.3f\" % f1_score(y_test, y_pred))"
      ],
      "metadata": {
        "colab": {
          "base_uri": "https://localhost:8080/"
        },
        "id": "y8Fcdtf29v3F",
        "outputId": "cd8cee84-1632-4938-a9d9-62efc94b7088"
      },
      "execution_count": null,
      "outputs": [
        {
          "output_type": "stream",
          "name": "stdout",
          "text": [
            "accuracy: 0.80\n",
            "Precision : 0.756\n",
            "Recall : 0.673\n",
            "F1 : 0.712\n"
          ]
        }
      ]
    },
    {
      "cell_type": "code",
      "source": [
        "from sklearn.metrics import confusion_matrix\n",
        "\n",
        "# Confusion Matrix를 출력\n",
        "confmat = confusion_matrix(y_true=y_test, y_pred=y_pred)\n",
        "print(confmat)"
      ],
      "metadata": {
        "colab": {
          "base_uri": "https://localhost:8080/"
        },
        "id": "w6UZBf-H9z2-",
        "outputId": "2a47a8cf-3d31-4a58-db98-e23248f84370"
      },
      "execution_count": null,
      "outputs": [
        {
          "output_type": "stream",
          "name": "stdout",
          "text": [
            "[[214  32]\n",
            " [ 48  99]]\n"
          ]
        }
      ]
    },
    {
      "cell_type": "code",
      "source": [
        "from sklearn.metrics import roc_curve, roc_auc_score\n",
        "\n",
        "# AUC (Area Under the Curve)를 계산하여 출력\n",
        "false_positive_rate, true_positive_rate, thresholds = roc_curve(y_test, y_pred_probability)\n",
        "roc_auc = roc_auc_score(y_test, y_pred_probability)\n",
        "print(\"AUC : %.3f\" % roc_auc)\n",
        "\n",
        "# ROC curve를 그래프로 출력\n",
        "plt.rcParams['figure.figsize'] = [5, 4]\n",
        "plt.plot(false_positive_rate, true_positive_rate, label='ROC curve (area = %0.3f)' % roc_auc,\n",
        "         color='red', linewidth=4.0)\n",
        "plt.plot([0, 1], [0, 1], 'k--')\n",
        "plt.xlim([0.0, 1.0])\n",
        "plt.ylim([0.0, 1.0])\n",
        "plt.xlabel('False Positive Rate')\n",
        "plt.ylabel('True Positive Rate')\n",
        "plt.title('ROC curve of Logistic regression')\n",
        "plt.legend(loc=\"lower right\")"
      ],
      "metadata": {
        "colab": {
          "base_uri": "https://localhost:8080/",
          "height": 446
        },
        "id": "gBId5A76940F",
        "outputId": "becd820a-895d-4bf8-d6ca-b5e3eb644792"
      },
      "execution_count": null,
      "outputs": [
        {
          "output_type": "stream",
          "name": "stdout",
          "text": [
            "AUC : 0.838\n"
          ]
        },
        {
          "output_type": "execute_result",
          "data": {
            "text/plain": [
              "<matplotlib.legend.Legend at 0x78a2f62cbbb0>"
            ]
          },
          "metadata": {},
          "execution_count": 20
        },
        {
          "output_type": "display_data",
          "data": {
            "text/plain": [
              "<Figure size 500x400 with 1 Axes>"
            ],
            "image/png": "[encoded data removed]"
          },
          "metadata": {}
        }
      ]
    },
    {
      "cell_type": "code",
      "source": [
        "from sklearn.tree import DecisionTreeClassifier\n",
        "\n",
        "# 의사결정나무를 학습하고, 학습한 모델로 테스트 데이터셋에 대한 예측값을 반환\n",
        "dtc = DecisionTreeClassifier()\n",
        "dtc.fit(x_train, y_train)\n",
        "y_pred = dtc.predict(x_test)\n",
        "y_pred_probability = dtc.predict_proba(x_test)[:,1]\n",
        "\n",
        "# 학습한 모델의 성능을 계산하여 출력\n",
        "print(\"accuracy: %.2f\" % accuracy_score(y_test, y_pred))\n",
        "print(\"Precision : %.3f\" % precision_score(y_test, y_pred))\n",
        "print(\"Recall : %.3f\" % recall_score(y_test, y_pred))\n",
        "print(\"F1 : %.3f\" % f1_score(y_test, y_pred))"
      ],
      "metadata": {
        "colab": {
          "base_uri": "https://localhost:8080/"
        },
        "id": "KYaUGr7p96Ki",
        "outputId": "2d641d3f-88d0-41f8-aeb6-3a56a11995a0"
      },
      "execution_count": null,
      "outputs": [
        {
          "output_type": "stream",
          "name": "stdout",
          "text": [
            "accuracy: 0.76\n",
            "Precision : 0.686\n",
            "Recall : 0.639\n",
            "F1 : 0.662\n"
          ]
        }
      ]
    },
    {
      "cell_type": "code",
      "source": [
        "# 학습한 모델의 AUC를 계산하여 출력\n",
        "false_positive_rate, true_positive_rate, thresholds = roc_curve(y_test, y_pred_probability)\n",
        "roc_auc = roc_auc_score(y_test, y_pred_probability)\n",
        "print(\"AUC : %.3f\" % roc_auc)\n",
        "\n",
        "# ROC curve를 그래프로 출력\n",
        "plt.rcParams['figure.figsize'] = [5, 4]\n",
        "plt.plot(false_positive_rate, true_positive_rate, label='ROC curve (area = %0.3f)' % roc_auc,\n",
        "         color='red', linewidth=4.0)\n",
        "plt.plot([0, 1], [0, 1], 'k--')\n",
        "plt.xlim([0.0, 1.0])\n",
        "plt.ylim([0.0, 1.0])\n",
        "plt.xlabel('False Positive Rate')\n",
        "plt.ylabel('True Positive Rate')\n",
        "plt.title('ROC curve of Logistic regression')\n",
        "plt.legend(loc=\"lower right\")"
      ],
      "metadata": {
        "colab": {
          "base_uri": "https://localhost:8080/",
          "height": 446
        },
        "id": "K70h0ui699Pv",
        "outputId": "0b8e2bab-405f-433f-b686-b45d20e6f221"
      },
      "execution_count": null,
      "outputs": [
        {
          "output_type": "stream",
          "name": "stdout",
          "text": [
            "AUC : 0.740\n"
          ]
        },
        {
          "output_type": "execute_result",
          "data": {
            "text/plain": [
              "<matplotlib.legend.Legend at 0x78a2f623c700>"
            ]
          },
          "metadata": {},
          "execution_count": 22
        },
        {
          "output_type": "display_data",
          "data": {
            "text/plain": [
              "<Figure size 500x400 with 1 Axes>"
            ],
            "image/png": "[encoded data removed]"
          },
          "metadata": {}
        }
      ]
    },
    {
      "cell_type": "code",
      "source": [
        "# 데이터를 다시 불러오기\n",
        "df_train = pd.read_csv(\"titanic_train.csv\")\n",
        "df_test = pd.read_csv(\"titanic_test.csv\")\n",
        "df_train = df_train.drop(['ticket', 'body', 'home.dest'], axis=1)\n",
        "df_test = df_test.drop(['ticket', 'body', 'home.dest'], axis=1)\n",
        "\n",
        "# age의 결측값을 평균값으로 대체\n",
        "replace_mean = df_train[df_train['age'] > 0]['age'].mean()\n",
        "df_train['age'] = df_train['age'].fillna(replace_mean)\n",
        "df_test['age'] = df_test['age'].fillna(replace_mean)\n",
        "\n",
        "# embark : 2개의 결측값을 최빈값으로 대체\n",
        "embarked_mode = df_train['embarked'].value_counts().index[0]\n",
        "df_train['embarked'] = df_train['embarked'].fillna(embarked_mode)\n",
        "df_test['embarked'] = df_test['embarked'].fillna(embarked_mode)\n",
        "\n",
        "# one-hot encoding을 위한 통합 데이터 프레임(whole_df)을 생성\n",
        "whole_df = df_train.append(df_test)\n",
        "train_idx_num = len(df_train)"
      ],
      "metadata": {
        "id": "fVjA2xNi-CnP"
      },
      "execution_count": null,
      "outputs": []
    },
    {
      "cell_type": "code",
      "source": [
        "print(whole_df['cabin'].value_counts()[:10])"
      ],
      "metadata": {
        "colab": {
          "base_uri": "https://localhost:8080/"
        },
        "id": "N5MVOsWC-L6M",
        "outputId": "4a5769f9-4c7d-45fd-efe3-5fa41ffa6990"
      },
      "execution_count": null,
      "outputs": [
        {
          "output_type": "stream",
          "name": "stdout",
          "text": [
            "C23 C25 C27        6\n",
            "B57 B59 B63 B66    5\n",
            "G6                 5\n",
            "F4                 4\n",
            "B96 B98            4\n",
            "F33                4\n",
            "C78                4\n",
            "D                  4\n",
            "F2                 4\n",
            "C22 C26            4\n",
            "Name: cabin, dtype: int64\n"
          ]
        }
      ]
    },
    {
      "cell_type": "code",
      "source": [
        "# 결측 데이터의 경우는 ‘X’로 대체\n",
        "whole_df['cabin'] = whole_df['cabin'].fillna('X')\n",
        "\n",
        "# cabin 피처의 첫 번째 문자를 추출\n",
        "whole_df['cabin'] = whole_df['cabin'].apply(lambda x: x[0])\n",
        "\n",
        "# 추출한 문자 중, G와 T는 수가 너무 작기 때문에, 마찬가지로 ‘X’로 대체\n",
        "whole_df['cabin'] = whole_df['cabin'].replace({\"G\":\"X\", \"T\":\"X\"})\n",
        "\n",
        "ax = sns.countplot(x='cabin', hue = 'survived',  data = whole_df)\n",
        "plt.show()"
      ],
      "metadata": {
        "colab": {
          "base_uri": "https://localhost:8080/",
          "height": 388
        },
        "id": "FMNxLgiA-OfQ",
        "outputId": "8750ada7-3aa3-428c-c7ee-76510f4f6703"
      },
      "execution_count": null,
      "outputs": [
        {
          "output_type": "display_data",
          "data": {
            "text/plain": [
              "<Figure size 500x400 with 1 Axes>"
            ],
            "image/png": "[encoded data removed]"
          },
          "metadata": {}
        }
      ]
    },
    {
      "cell_type": "code",
      "source": [
        "# 이름에서 호칭을 추출\n",
        "name_grade = whole_df['name'].apply(lambda x : x.split(\", \",1)[1].split(\".\")[0])\n",
        "name_grade = name_grade.unique().tolist()\n",
        "print(name_grade)"
      ],
      "metadata": {
        "colab": {
          "base_uri": "https://localhost:8080/"
        },
        "id": "9i12FDJ3-QFF",
        "outputId": "cf228016-bf8b-4a30-9e32-fe969cb537b5"
      },
      "execution_count": null,
      "outputs": [
        {
          "output_type": "stream",
          "name": "stdout",
          "text": [
            "['Miss', 'Mr', 'Master', 'Mrs', 'Dr', 'Mlle', 'Col', 'Rev', 'Ms', 'Mme', 'Sir', 'the Countess', 'Dona', 'Jonkheer', 'Lady', 'Major', 'Don', 'Capt']\n"
          ]
        }
      ]
    },
    {
      "cell_type": "code",
      "source": [
        "# 호칭에 따라 사회적 지위(1910년대 기준)를 정의\n",
        "grade_dict = {'A': ['Rev', 'Col', 'Major', 'Dr', 'Capt', 'Sir'], # 명예직\n",
        "              'B': ['Ms', 'Mme', 'Mrs', 'Dona'], # 여성\n",
        "              'C': ['Jonkheer', 'the Countess'], # 귀족이나 작위\n",
        "              'D': ['Mr', 'Don'], # 남성\n",
        "              'E': ['Master'], # 젊은남성\n",
        "              'F': ['Miss', 'Mlle', 'Lady']} # 젊은 여성\n",
        "\n",
        "# 정의한 호칭의 기준에 따라, A~F의 문자로 name 피처를 다시 정의하는 함수\n",
        "def give_grade(x):\n",
        "    grade = x.split(\", \", 1)[1].split(\".\")[0]\n",
        "    for key, value in grade_dict.items():\n",
        "        for title in value:\n",
        "            if grade == title:\n",
        "                return key\n",
        "    return 'G'\n",
        "\n",
        "# 위의 함수를 적용하여 name 피처를 새롭게 정의\n",
        "whole_df['name'] = whole_df['name'].apply(lambda x: give_grade(x))\n",
        "print(whole_df['name'].value_counts())"
      ],
      "metadata": {
        "colab": {
          "base_uri": "https://localhost:8080/"
        },
        "id": "UmeWye81-TCK",
        "outputId": "26b858a4-ab8f-4046-9571-05c445c62915"
      },
      "execution_count": null,
      "outputs": [
        {
          "output_type": "stream",
          "name": "stdout",
          "text": [
            "D    758\n",
            "F    263\n",
            "B    201\n",
            "E     61\n",
            "A     24\n",
            "C      2\n",
            "Name: name, dtype: int64\n"
          ]
        }
      ]
    },
    {
      "cell_type": "code",
      "source": [
        "# pandas 패키지를 이용한 one-hot 인코딩을 수행\n",
        "whole_df_encoded = pd.get_dummies(whole_df)\n",
        "df_train = whole_df_encoded[:train_idx_num]\n",
        "df_test = whole_df_encoded[train_idx_num:]\n",
        "df_train.head()"
      ],
      "metadata": {
        "colab": {
          "base_uri": "https://localhost:8080/",
          "height": 255
        },
        "id": "_zQmyqi0-o5o",
        "outputId": "829e0c28-36bb-45f1-b58e-7c69df8e03d1"
      },
      "execution_count": null,
      "outputs": [
        {
          "output_type": "execute_result",
          "data": {
            "text/plain": [
              "   pclass  survived        age  sibsp  parch     fare  name_A  name_B  name_C  \\\n",
              "0       2         1  13.000000      0      1  19.5000       0       0       0   \n",
              "1       2         1   4.000000      1      1  23.0000       0       0       0   \n",
              "2       2         1  30.000000      1      0  13.8583       0       0       0   \n",
              "3       3         0  30.231444      0      0   7.7250       0       0       0   \n",
              "4       3         1  22.000000      0      0   7.7250       0       0       0   \n",
              "\n",
              "   name_D  ...  cabin_A  cabin_B  cabin_C  cabin_D  cabin_E  cabin_F  cabin_X  \\\n",
              "0       0  ...        0        0        0        0        0        0        1   \n",
              "1       0  ...        0        0        0        0        0        0        1   \n",
              "2       0  ...        0        0        0        0        0        0        1   \n",
              "3       1  ...        0        0        0        0        0        0        1   \n",
              "4       0  ...        0        0        0        0        0        0        1   \n",
              "\n",
              "   embarked_C  embarked_Q  embarked_S  \n",
              "0           0           0           1  \n",
              "1           0           0           1  \n",
              "2           1           0           0  \n",
              "3           0           1           0  \n",
              "4           0           1           0  \n",
              "\n",
              "[5 rows x 24 columns]"
            ],
            "text/html": [
              "\n",
              "  <div id=\"df-b9220cf9-d8cf-40ed-ac1b-d643d7feb5d8\" class=\"colab-df-container\">\n",
              "    <div>\n",
              "<style scoped>\n",
              "    .dataframe tbody tr th:only-of-type {\n",
              "        vertical-align: middle;\n",
              "    }\n",
              "\n",
              "    .dataframe tbody tr th {\n",
              "        vertical-align: top;\n",
              "    }\n",
              "\n",
              "    .dataframe thead th {\n",
              "        text-align: right;\n",
              "    }\n",
              "</style>\n",
              "<table border=\"1\" class=\"dataframe\">\n",
              "  <thead>\n",
              "    <tr style=\"text-align: right;\">\n",
              "      <th></th>\n",
              "      <th>pclass</th>\n",
              "      <th>survived</th>\n",
              "      <th>age</th>\n",
              "      <th>sibsp</th>\n",
              "      <th>parch</th>\n",
              "      <th>fare</th>\n",
              "      <th>name_A</th>\n",
              "      <th>name_B</th>\n",
              "      <th>name_C</th>\n",
              "      <th>name_D</th>\n",
              "      <th>...</th>\n",
              "      <th>cabin_A</th>\n",
              "      <th>cabin_B</th>\n",
              "      <th>cabin_C</th>\n",
              "      <th>cabin_D</th>\n",
              "      <th>cabin_E</th>\n",
              "      <th>cabin_F</th>\n",
              "      <th>cabin_X</th>\n",
              "      <th>embarked_C</th>\n",
              "      <th>embarked_Q</th>\n",
              "      <th>embarked_S</th>\n",
              "    </tr>\n",
              "  </thead>\n",
              "  <tbody>\n",
              "    <tr>\n",
              "      <th>0</th>\n",
              "      <td>2</td>\n",
              "      <td>1</td>\n",
              "      <td>13.000000</td>\n",
              "      <td>0</td>\n",
              "      <td>1</td>\n",
              "      <td>19.5000</td>\n",
              "      <td>0</td>\n",
              "      <td>0</td>\n",
              "      <td>0</td>\n",
              "      <td>0</td>\n",
              "      <td>...</td>\n",
              "      <td>0</td>\n",
              "      <td>0</td>\n",
              "      <td>0</td>\n",
              "      <td>0</td>\n",
              "      <td>0</td>\n",
              "      <td>0</td>\n",
              "      <td>1</td>\n",
              "      <td>0</td>\n",
              "      <td>0</td>\n",
              "      <td>1</td>\n",
              "    </tr>\n",
              "    <tr>\n",
              "      <th>1</th>\n",
              "      <td>2</td>\n",
              "      <td>1</td>\n",
              "      <td>4.000000</td>\n",
              "      <td>1</td>\n",
              "      <td>1</td>\n",
              "      <td>23.0000</td>\n",
              "      <td>0</td>\n",
              "      <td>0</td>\n",
              "      <td>0</td>\n",
              "      <td>0</td>\n",
              "      <td>...</td>\n",
              "      <td>0</td>\n",
              "      <td>0</td>\n",
              "      <td>0</td>\n",
              "      <td>0</td>\n",
              "      <td>0</td>\n",
              "      <td>0</td>\n",
              "      <td>1</td>\n",
              "      <td>0</td>\n",
              "      <td>0</td>\n",
              "      <td>1</td>\n",
              "    </tr>\n",
              "    <tr>\n",
              "      <th>2</th>\n",
              "      <td>2</td>\n",
              "      <td>1</td>\n",
              "      <td>30.000000</td>\n",
              "      <td>1</td>\n",
              "      <td>0</td>\n",
              "      <td>13.8583</td>\n",
              "      <td>0</td>\n",
              "      <td>0</td>\n",
              "      <td>0</td>\n",
              "      <td>0</td>\n",
              "      <td>...</td>\n",
              "      <td>0</td>\n",
              "      <td>0</td>\n",
              "      <td>0</td>\n",
              "      <td>0</td>\n",
              "      <td>0</td>\n",
              "      <td>0</td>\n",
              "      <td>1</td>\n",
              "      <td>1</td>\n",
              "      <td>0</td>\n",
              "      <td>0</td>\n",
              "    </tr>\n",
              "    <tr>\n",
              "      <th>3</th>\n",
              "      <td>3</td>\n",
              "      <td>0</td>\n",
              "      <td>30.231444</td>\n",
              "      <td>0</td>\n",
              "      <td>0</td>\n",
              "      <td>7.7250</td>\n",
              "      <td>0</td>\n",
              "      <td>0</td>\n",
              "      <td>0</td>\n",
              "      <td>1</td>\n",
              "      <td>...</td>\n",
              "      <td>0</td>\n",
              "      <td>0</td>\n",
              "      <td>0</td>\n",
              "      <td>0</td>\n",
              "      <td>0</td>\n",
              "      <td>0</td>\n",
              "      <td>1</td>\n",
              "      <td>0</td>\n",
              "      <td>1</td>\n",
              "      <td>0</td>\n",
              "    </tr>\n",
              "    <tr>\n",
              "      <th>4</th>\n",
              "      <td>3</td>\n",
              "      <td>1</td>\n",
              "      <td>22.000000</td>\n",
              "      <td>0</td>\n",
              "      <td>0</td>\n",
              "      <td>7.7250</td>\n",
              "      <td>0</td>\n",
              "      <td>0</td>\n",
              "      <td>0</td>\n",
              "      <td>0</td>\n",
              "      <td>...</td>\n",
              "      <td>0</td>\n",
              "      <td>0</td>\n",
              "      <td>0</td>\n",
              "      <td>0</td>\n",
              "      <td>0</td>\n",
              "      <td>0</td>\n",
              "      <td>1</td>\n",
              "      <td>0</td>\n",
              "      <td>1</td>\n",
              "      <td>0</td>\n",
              "    </tr>\n",
              "  </tbody>\n",
              "</table>\n",
              "<p>5 rows × 24 columns</p>\n",
              "</div>\n",
              "    <div class=\"colab-df-buttons\">\n",
              "\n",
              "  <div class=\"colab-df-container\">\n",
              "    <button class=\"colab-df-convert\" onclick=\"convertToInteractive('df-b9220cf9-d8cf-40ed-ac1b-d643d7feb5d8')\"\n",
              "            title=\"Convert this dataframe to an interactive table.\"\n",
              "            style=\"display:none;\">\n",
              "\n",
              "  <svg xmlns=\"http://www.w3.org/2000/svg\" height=\"24px\" viewBox=\"0 -960 960 960\">\n",
              "    <path d=\"M120-120v-720h720v720H120Zm60-500h600v-160H180v160Zm220 220h160v-160H400v160Zm0 220h160v-160H400v160ZM180-400h160v-160H180v160Zm440 0h160v-160H620v160ZM180-180h160v-160H180v160Zm440 0h160v-160H620v160Z\"/>\n",
              "  </svg>\n",
              "    </button>\n",
              "\n",
              "  <style>\n",
              "    .colab-df-container {\n",
              "      display:flex;\n",
              "      gap: 12px;\n",
              "    }\n",
              "\n",
              "    .colab-df-convert {\n",
              "      background-color: #E8F0FE;\n",
              "      border: none;\n",
              "      border-radius: 50%;\n",
              "      cursor: pointer;\n",
              "      display: none;\n",
              "      fill: #1967D2;\n",
              "      height: 32px;\n",
              "      padding: 0 0 0 0;\n",
              "      width: 32px;\n",
              "    }\n",
              "\n",
              "    .colab-df-convert:hover {\n",
              "      background-color: #E2EBFA;\n",
              "      box-shadow: 0px 1px 2px rgba(60, 64, 67, 0.3), 0px 1px 3px 1px rgba(60, 64, 67, 0.15);\n",
              "      fill: #174EA6;\n",
              "    }\n",
              "\n",
              "    .colab-df-buttons div {\n",
              "      margin-bottom: 4px;\n",
              "    }\n",
              "\n",
              "    [theme=dark] .colab-df-convert {\n",
              "      background-color: #3B4455;\n",
              "      fill: #D2E3FC;\n",
              "    }\n",
              "\n",
              "    [theme=dark] .colab-df-convert:hover {\n",
              "      background-color: #434B5C;\n",
              "      box-shadow: 0px 1px 3px 1px rgba(0, 0, 0, 0.15);\n",
              "      filter: drop-shadow(0px 1px 2px rgba(0, 0, 0, 0.3));\n",
              "      fill: #FFFFFF;\n",
              "    }\n",
              "  </style>\n",
              "\n",
              "    <script>\n",
              "      const buttonEl =\n",
              "        document.querySelector('#df-b9220cf9-d8cf-40ed-ac1b-d643d7feb5d8 button.colab-df-convert');\n",
              "      buttonEl.style.display =\n",
              "        google.colab.kernel.accessAllowed ? 'block' : 'none';\n",
              "\n",
              "      async function convertToInteractive(key) {\n",
              "        const element = document.querySelector('#df-b9220cf9-d8cf-40ed-ac1b-d643d7feb5d8');\n",
              "        const dataTable =\n",
              "          await google.colab.kernel.invokeFunction('convertToInteractive',\n",
              "                                                    [key], {});\n",
              "        if (!dataTable) return;\n",
              "\n",
              "        const docLinkHtml = 'Like what you see? Visit the ' +\n",
              "          '<a target=\"_blank\" href=https://colab.research.google.com/notebooks/data_table.ipynb>data table notebook</a>'\n",
              "          + ' to learn more about interactive tables.';\n",
              "        element.innerHTML = '';\n",
              "        dataTable['output_type'] = 'display_data';\n",
              "        await google.colab.output.renderOutput(dataTable, element);\n",
              "        const docLink = document.createElement('div');\n",
              "        docLink.innerHTML = docLinkHtml;\n",
              "        element.appendChild(docLink);\n",
              "      }\n",
              "    </script>\n",
              "  </div>\n",
              "\n",
              "\n",
              "<div id=\"df-843094a3-e125-436e-bfc7-b7c3e873867b\">\n",
              "  <button class=\"colab-df-quickchart\" onclick=\"quickchart('df-843094a3-e125-436e-bfc7-b7c3e873867b')\"\n",
              "            title=\"Suggest charts\"\n",
              "            style=\"display:none;\">\n",
              "\n",
              "<svg xmlns=\"http://www.w3.org/2000/svg\" height=\"24px\"viewBox=\"0 0 24 24\"\n",
              "     width=\"24px\">\n",
              "    <g>\n",
              "        <path d=\"M19 3H5c-1.1 0-2 .9-2 2v14c0 1.1.9 2 2 2h14c1.1 0 2-.9 2-2V5c0-1.1-.9-2-2-2zM9 17H7v-7h2v7zm4 0h-2V7h2v10zm4 0h-2v-4h2v4z\"/>\n",
              "    </g>\n",
              "</svg>\n",
              "  </button>\n",
              "\n",
              "<style>\n",
              "  .colab-df-quickchart {\n",
              "      --bg-color: #E8F0FE;\n",
              "      --fill-color: #1967D2;\n",
              "      --hover-bg-color: #E2EBFA;\n",
              "      --hover-fill-color: #174EA6;\n",
              "      --disabled-fill-color: #AAA;\n",
              "      --disabled-bg-color: #DDD;\n",
              "  }\n",
              "\n",
              "  [theme=dark] .colab-df-quickchart {\n",
              "      --bg-color: #3B4455;\n",
              "      --fill-color: #D2E3FC;\n",
              "      --hover-bg-color: #434B5C;\n",
              "      --hover-fill-color: #FFFFFF;\n",
              "      --disabled-bg-color: #3B4455;\n",
              "      --disabled-fill-color: #666;\n",
              "  }\n",
              "\n",
              "  .colab-df-quickchart {\n",
              "    background-color: var(--bg-color);\n",
              "    border: none;\n",
              "    border-radius: 50%;\n",
              "    cursor: pointer;\n",
              "    display: none;\n",
              "    fill: var(--fill-color);\n",
              "    height: 32px;\n",
              "    padding: 0;\n",
              "    width: 32px;\n",
              "  }\n",
              "\n",
              "  .colab-df-quickchart:hover {\n",
              "    background-color: var(--hover-bg-color);\n",
              "    box-shadow: 0 1px 2px rgba(60, 64, 67, 0.3), 0 1px 3px 1px rgba(60, 64, 67, 0.15);\n",
              "    fill: var(--button-hover-fill-color);\n",
              "  }\n",
              "\n",
              "  .colab-df-quickchart-complete:disabled,\n",
              "  .colab-df-quickchart-complete:disabled:hover {\n",
              "    background-color: var(--disabled-bg-color);\n",
              "    fill: var(--disabled-fill-color);\n",
              "    box-shadow: none;\n",
              "  }\n",
              "\n",
              "  .colab-df-spinner {\n",
              "    border: 2px solid var(--fill-color);\n",
              "    border-color: transparent;\n",
              "    border-bottom-color: var(--fill-color);\n",
              "    animation:\n",
              "      spin 1s steps(1) infinite;\n",
              "  }\n",
              "\n",
              "  @keyframes spin {\n",
              "    0% {\n",
              "      border-color: transparent;\n",
              "      border-bottom-color: var(--fill-color);\n",
              "      border-left-color: var(--fill-color);\n",
              "    }\n",
              "    20% {\n",
              "      border-color: transparent;\n",
              "      border-left-color: var(--fill-color);\n",
              "      border-top-color: var(--fill-color);\n",
              "    }\n",
              "    30% {\n",
              "      border-color: transparent;\n",
              "      border-left-color: var(--fill-color);\n",
              "      border-top-color: var(--fill-color);\n",
              "      border-right-color: var(--fill-color);\n",
              "    }\n",
              "    40% {\n",
              "      border-color: transparent;\n",
              "      border-right-color: var(--fill-color);\n",
              "      border-top-color: var(--fill-color);\n",
              "    }\n",
              "    60% {\n",
              "      border-color: transparent;\n",
              "      border-right-color: var(--fill-color);\n",
              "    }\n",
              "    80% {\n",
              "      border-color: transparent;\n",
              "      border-right-color: var(--fill-color);\n",
              "      border-bottom-color: var(--fill-color);\n",
              "    }\n",
              "    90% {\n",
              "      border-color: transparent;\n",
              "      border-bottom-color: var(--fill-color);\n",
              "    }\n",
              "  }\n",
              "</style>\n",
              "\n",
              "  <script>\n",
              "    async function quickchart(key) {\n",
              "      const quickchartButtonEl =\n",
              "        document.querySelector('#' + key + ' button');\n",
              "      quickchartButtonEl.disabled = true;  // To prevent multiple clicks.\n",
              "      quickchartButtonEl.classList.add('colab-df-spinner');\n",
              "      try {\n",
              "        const charts = await google.colab.kernel.invokeFunction(\n",
              "            'suggestCharts', [key], {});\n",
              "      } catch (error) {\n",
              "        console.error('Error during call to suggestCharts:', error);\n",
              "      }\n",
              "      quickchartButtonEl.classList.remove('colab-df-spinner');\n",
              "      quickchartButtonEl.classList.add('colab-df-quickchart-complete');\n",
              "    }\n",
              "    (() => {\n",
              "      let quickchartButtonEl =\n",
              "        document.querySelector('#df-843094a3-e125-436e-bfc7-b7c3e873867b button');\n",
              "      quickchartButtonEl.style.display =\n",
              "        google.colab.kernel.accessAllowed ? 'block' : 'none';\n",
              "    })();\n",
              "  </script>\n",
              "</div>\n",
              "    </div>\n",
              "  </div>\n"
            ]
          },
          "metadata": {},
          "execution_count": 28
        }
      ]
    },
    {
      "cell_type": "code",
      "source": [
        "# 데이터를 학습 데이터셋, 테스트 데이터셋으로 분리\n",
        "x_train, y_train = df_train.loc[:, df_train.columns != 'survived'].values, df_train['survived'].values\n",
        "x_test, y_test = df_test.loc[:, df_test.columns != 'survived'].values, df_test['survived'].values\n",
        "\n",
        "# 로지스틱 회귀 모델을 학습\n",
        "lr = LogisticRegression(random_state=0)\n",
        "lr.fit(x_train, y_train)\n",
        "\n",
        "# 학습한 모델의 테스트 데이터셋에 대한 예측 결과를 반환\n",
        "y_pred = lr.predict(x_test)\n",
        "y_pred_probability = lr.predict_proba(x_test)[:,1]\n",
        "\n",
        "# 테스트 데이터셋에 대한 accuracy, precision, recall, f1 평가 지표를 각각 출력\n",
        "print(\"accuracy: %.2f\" % accuracy_score(y_test, y_pred))\n",
        "print(\"Precision : %.3f\" % precision_score(y_test, y_pred))\n",
        "print(\"Recall : %.3f\" % recall_score(y_test, y_pred))\n",
        "print(\"F1 : %.3f\" % f1_score(y_test, y_pred)) # AUC (Area Under the Curve) & ROC curve\n",
        "\n",
        "# AUC (Area Under the Curve)를 계산하여 출력\n",
        "false_positive_rate, true_positive_rate, thresholds = roc_curve(y_test, y_pred_probability)\n",
        "roc_auc = roc_auc_score(y_test, y_pred_probability)\n",
        "print(\"AUC : %.3f\" % roc_auc)\n",
        "\n",
        "# ROC curve를 그래프로 출력\n",
        "plt.rcParams['figure.figsize'] = [5, 4]\n",
        "plt.plot(false_positive_rate, true_positive_rate, label='ROC curve (area = %0.3f)' % roc_auc,\n",
        "         color='red', linewidth=4.0)\n",
        "plt.plot([0, 1], [0, 1], 'k--')\n",
        "plt.xlim([0.0, 1.0])\n",
        "plt.ylim([0.0, 1.0])\n",
        "plt.xlabel('False Positive Rate')\n",
        "plt.ylabel('True Positive Rate')\n",
        "plt.title('ROC curve of Logistic regression')\n",
        "plt.legend(loc=\"lower right\")"
      ],
      "metadata": {
        "colab": {
          "base_uri": "https://localhost:8080/",
          "height": 519
        },
        "id": "yLNGejuL-wob",
        "outputId": "ed522ac1-836c-4ff4-edcd-4defb8e9a7d2"
      },
      "execution_count": null,
      "outputs": [
        {
          "output_type": "stream",
          "name": "stdout",
          "text": [
            "accuracy: 0.79\n",
            "Precision : 0.736\n",
            "Recall : 0.701\n",
            "F1 : 0.718\n",
            "AUC : 0.853\n"
          ]
        },
        {
          "output_type": "execute_result",
          "data": {
            "text/plain": [
              "<matplotlib.legend.Legend at 0x78a2f6467a90>"
            ]
          },
          "metadata": {},
          "execution_count": 29
        },
        {
          "output_type": "display_data",
          "data": {
            "text/plain": [
              "<Figure size 500x400 with 1 Axes>"
            ],
            "image/png": "[encoded data removed]"
          },
          "metadata": {}
        }
      ]
    },
    {
      "cell_type": "code",
      "source": [
        "# 예측 대상인 survived 피처를 제외한 모든 피처를 리스트로 반환 (그래프의 y축)\n",
        "cols = df_train.columns.tolist()\n",
        "cols.remove('survived')\n",
        "y_pos = np.arange(len(cols))\n",
        "\n",
        "# 각 피처별 회귀 분석 계수를 그래프의 x축으로 하여, 피처 영향력 그래프를 출력\n",
        "plt.rcParams['figure.figsize'] = [5, 4]\n",
        "fig, ax = plt.subplots()\n",
        "ax.barh(y_pos, lr.coef_[0], align='center', color='green', ecolor='black')\n",
        "ax.set_yticks(y_pos)\n",
        "ax.set_yticklabels(cols)\n",
        "ax.invert_yaxis()\n",
        "ax.set_xlabel('Coef')\n",
        "ax.set_title(\"Each Feature's Coef\")\n",
        "\n",
        "plt.show()"
      ],
      "metadata": {
        "colab": {
          "base_uri": "https://localhost:8080/",
          "height": 410
        },
        "id": "E24yU6Xr-yIO",
        "outputId": "e01ce048-d664-4010-d5c4-8c2c3e4d8d1c"
      },
      "execution_count": null,
      "outputs": [
        {
          "output_type": "display_data",
          "data": {
            "text/plain": [
              "<Figure size 500x400 with 1 Axes>"
            ],
            "image/png": "[encoded data removed]"
          },
          "metadata": {}
        }
      ]
    },
    {
      "cell_type": "code",
      "source": [
        "from sklearn.model_selection import KFold\n",
        "\n",
        "# K-fold 교차 검증의 k를 5로 설정\n",
        "k = 5\n",
        "cv = KFold(k, shuffle=True, random_state=0)\n",
        "acc_history = []\n",
        "\n",
        "# K-fold를 5번의 분할 학습으로 반복\n",
        "for i, (train_data_row, test_data_row) in enumerate(cv.split(whole_df_encoded)):\n",
        "\n",
        "    # 5개로 분할된 fold 중 4개를 학습 데이터셋, 1개를 테스트 데이터셋으로 지정. 매 반복시마다, 테스트 데이터셋은 변경\n",
        "    df_train = whole_df_encoded.iloc[train_data_row]\n",
        "    df_test = whole_df_encoded.iloc[test_data_row]\n",
        "\n",
        "    # survived 피처를 y, 나머지 피처들을 x 데이터로 지정\n",
        "    splited_x_train, splited_y_train = df_train.loc[:, df_train.columns != 'survived'].values, df_train['survived'].values\n",
        "    splited_x_test, splited_y_test = df_test.loc[:, df_test.columns != 'survived'].values, df_test['survived'].values\n",
        "\n",
        "    # 주어진 데이터로 로지스틱 회귀 모델을 학습\n",
        "    lr = LogisticRegression(random_state=0)\n",
        "    lr.fit(splited_x_train, splited_y_train)\n",
        "    y_pred = lr.predict(splited_x_test)\n",
        "\n",
        "    # 테스트 데이터셋의 Accuracy를 계산하여 acc_history에 저장\n",
        "    splited_acc = accuracy_score(splited_y_test, y_pred)\n",
        "    acc_history.append(splited_acc)"
      ],
      "metadata": {
        "id": "UQ00XUIC-1Ro"
      },
      "execution_count": null,
      "outputs": []
    },
    {
      "cell_type": "code",
      "source": [
        "# acc_history에 저장된 5번의 학습 결과(Accuracy)를 그래프로 출력합\n",
        "plt.xlabel(\"Each K-fold\")\n",
        "plt.ylabel(\"Acc of splited test data\")\n",
        "plt.plot(range(1, k+1), acc_history)"
      ],
      "metadata": {
        "colab": {
          "base_uri": "https://localhost:8080/",
          "height": 406
        },
        "id": "lVAB4tLG-58e",
        "outputId": "ea3c195c-77ca-4d11-c967-35f6e08bd4d1"
      },
      "execution_count": null,
      "outputs": [
        {
          "output_type": "execute_result",
          "data": {
            "text/plain": [
              "[<matplotlib.lines.Line2D at 0x78a2f6762230>]"
            ]
          },
          "metadata": {},
          "execution_count": 32
        },
        {
          "output_type": "display_data",
          "data": {
            "text/plain": [
              "<Figure size 500x400 with 1 Axes>"
            ],
            "image/png": "[encoded data removed]"
          },
          "metadata": {}
        }
      ]
    },
    {
      "cell_type": "code",
      "source": [
        "pip install scikit-plot"
      ],
      "metadata": {
        "colab": {
          "base_uri": "https://localhost:8080/"
        },
        "id": "Jmi-C8Az_Mug",
        "outputId": "214cb7bd-59e6-4dac-cf04-e44bd551646b"
      },
      "execution_count": null,
      "outputs": [
        {
          "output_type": "stream",
          "name": "stdout",
          "text": [
            "Collecting scikit-plot\n",
            "  Downloading scikit_plot-0.3.7-py3-none-any.whl (33 kB)\n",
            "Requirement already satisfied: matplotlib>=1.4.0 in /usr/local/lib/python3.10/dist-packages (from scikit-plot) (3.7.1)\n",
            "Requirement already satisfied: scikit-learn>=0.18 in /usr/local/lib/python3.10/dist-packages (from scikit-plot) (1.2.2)\n",
            "Requirement already satisfied: scipy>=0.9 in /usr/local/lib/python3.10/dist-packages (from scikit-plot) (1.11.3)\n",
            "Requirement already satisfied: joblib>=0.10 in /usr/local/lib/python3.10/dist-packages (from scikit-plot) (1.3.2)\n",
            "Requirement already satisfied: contourpy>=1.0.1 in /usr/local/lib/python3.10/dist-packages (from matplotlib>=1.4.0->scikit-plot) (1.2.0)\n",
            "Requirement already satisfied: cycler>=0.10 in /usr/local/lib/python3.10/dist-packages (from matplotlib>=1.4.0->scikit-plot) (0.12.1)\n",
            "Requirement already satisfied: fonttools>=4.22.0 in /usr/local/lib/python3.10/dist-packages (from matplotlib>=1.4.0->scikit-plot) (4.44.3)\n",
            "Requirement already satisfied: kiwisolver>=1.0.1 in /usr/local/lib/python3.10/dist-packages (from matplotlib>=1.4.0->scikit-plot) (1.4.5)\n",
            "Requirement already satisfied: numpy>=1.20 in /usr/local/lib/python3.10/dist-packages (from matplotlib>=1.4.0->scikit-plot) (1.23.5)\n",
            "Requirement already satisfied: packaging>=20.0 in /usr/local/lib/python3.10/dist-packages (from matplotlib>=1.4.0->scikit-plot) (23.2)\n",
            "Requirement already satisfied: pillow>=6.2.0 in /usr/local/lib/python3.10/dist-packages (from matplotlib>=1.4.0->scikit-plot) (9.4.0)\n",
            "Requirement already satisfied: pyparsing>=2.3.1 in /usr/local/lib/python3.10/dist-packages (from matplotlib>=1.4.0->scikit-plot) (3.1.1)\n",
            "Requirement already satisfied: python-dateutil>=2.7 in /usr/local/lib/python3.10/dist-packages (from matplotlib>=1.4.0->scikit-plot) (2.8.2)\n",
            "Requirement already satisfied: threadpoolctl>=2.0.0 in /usr/local/lib/python3.10/dist-packages (from scikit-learn>=0.18->scikit-plot) (3.2.0)\n",
            "Requirement already satisfied: six>=1.5 in /usr/local/lib/python3.10/dist-packages (from python-dateutil>=2.7->matplotlib>=1.4.0->scikit-plot) (1.16.0)\n",
            "Installing collected packages: scikit-plot\n",
            "Successfully installed scikit-plot-0.3.7\n"
          ]
        }
      ]
    },
    {
      "cell_type": "code",
      "source": [
        "# 학습 곡선을 분석하여 학습, 테스트 데이터의 격차가 벌어지는 과적합 상태를 보다 쉽게 관찰 가능\n",
        "import scikitplot as skplt\n",
        "skplt.estimators.plot_learning_curve(lr, x_train, y_train)\n",
        "plt.show()"
      ],
      "metadata": {
        "colab": {
          "base_uri": "https://localhost:8080/",
          "height": 410
        },
        "id": "EdAe4upO_AVg",
        "outputId": "d5bfa6a8-7869-42bd-918a-d49b52a08fa7"
      },
      "execution_count": null,
      "outputs": [
        {
          "output_type": "display_data",
          "data": {
            "text/plain": [
              "<Figure size 500x400 with 1 Axes>"
            ],
            "image/png": "[encoded data removed]"
          },
          "metadata": {}
        }
      ]
    }
  ]
}